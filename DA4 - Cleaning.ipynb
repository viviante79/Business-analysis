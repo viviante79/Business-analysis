{
 "cells": [
  {
   "cell_type": "markdown",
   "metadata": {},
   "source": [
    "# NETTOYAGE DES DONNÉES"
   ]
  },
  {
   "cell_type": "markdown",
   "metadata": {},
   "source": [
    "## Préalables"
   ]
  },
  {
   "cell_type": "code",
   "execution_count": 1,
   "metadata": {},
   "outputs": [],
   "source": [
    "# Importation des librairies :\n",
    "import numpy as np\n",
    "import pandas as pd"
   ]
  },
  {
   "cell_type": "code",
   "execution_count": 2,
   "metadata": {},
   "outputs": [],
   "source": [
    "# Importations des fichiers :\n",
    "customers = pd.read_csv(\"customers.csv\")\n",
    "products = pd.read_csv(\"products.csv\")\n",
    "transactions = pd.read_csv(\"transactions.csv\")"
   ]
  },
  {
   "cell_type": "markdown",
   "metadata": {},
   "source": [
    "## I - Nettoyage du fichier \"customers\" :"
   ]
  },
  {
   "cell_type": "code",
   "execution_count": 3,
   "metadata": {},
   "outputs": [
    {
     "data": {
      "text/plain": [
       "client_id  sex    birth\n",
       "False      False  False    8623\n",
       "dtype: int64"
      ]
     },
     "execution_count": 3,
     "metadata": {},
     "output_type": "execute_result"
    }
   ],
   "source": [
    "customers.isnull().value_counts()\n",
    "# Aucune valeur manquante."
   ]
  },
  {
   "cell_type": "markdown",
   "metadata": {},
   "source": [
    "### A - Colonne \"client_id\" :"
   ]
  },
  {
   "cell_type": "code",
   "execution_count": 4,
   "metadata": {},
   "outputs": [
    {
     "data": {
      "text/plain": [
       "0       False\n",
       "5756    False\n",
       "5755    False\n",
       "5754    False\n",
       "5753    False\n",
       "        ...  \n",
       "2867    False\n",
       "2866    False\n",
       "2865    False\n",
       "2879    False\n",
       "8622    False\n",
       "Name: client_id, Length: 8623, dtype: bool"
      ]
     },
     "execution_count": 4,
     "metadata": {},
     "output_type": "execute_result"
    }
   ],
   "source": [
    "customers[\"client_id\"].duplicated().sort_values()\n",
    "# Pas de doublons dans la colonne client_id.duplicated."
   ]
  },
  {
   "cell_type": "code",
   "execution_count": 5,
   "metadata": {},
   "outputs": [],
   "source": [
    "customers[\"client_id\"].sort_values()\n",
    "# On remarque que deux entrées débutent par \"ct\" et non par \"c\". C'est peut-être une erreur d'irregularité.\n",
    "# Après étude du fichier \"transactions\", il s'avère que \"ct_0\" et \"ct_1\" sont des clients test.\n",
    "\n",
    "# Suppression des clients test :\n",
    "clientsTest = [\"ct_0\", \"ct_1\"]\n",
    "customers.drop(customers.loc[customers[\"client_id\"].isin(clientsTest)].index, inplace=True)"
   ]
  },
  {
   "cell_type": "markdown",
   "metadata": {},
   "source": [
    "### B - Colonne \"sex\" :"
   ]
  },
  {
   "cell_type": "code",
   "execution_count": 6,
   "metadata": {},
   "outputs": [
    {
     "data": {
      "text/plain": [
       "array(['f', 'm'], dtype=object)"
      ]
     },
     "execution_count": 6,
     "metadata": {},
     "output_type": "execute_result"
    }
   ],
   "source": [
    "customers[\"sex\"].unique()\n",
    "# Il n'existe que deux valeurs différentes dans cette colonne booléenne: \"f\" et \"m\" tous deux en miniscule.\n",
    "# Tout est conforme. "
   ]
  },
  {
   "cell_type": "markdown",
   "metadata": {},
   "source": [
    "### C - Colonne \"birth\" :"
   ]
  },
  {
   "cell_type": "code",
   "execution_count": 7,
   "metadata": {},
   "outputs": [
    {
     "data": {
      "text/plain": [
       "array([1929, 1930, 1931, 1932, 1933, 1934, 1935, 1936, 1937, 1938, 1939,\n",
       "       1940, 1941, 1942, 1943, 1944, 1945, 1946, 1947, 1948, 1949, 1950,\n",
       "       1951, 1952, 1953, 1954, 1955, 1956, 1957, 1958, 1959, 1960, 1961,\n",
       "       1962, 1963, 1964, 1965, 1966, 1967, 1968, 1969, 1970, 1971, 1972,\n",
       "       1973, 1974, 1975, 1976, 1977, 1978, 1979, 1980, 1981, 1982, 1983,\n",
       "       1984, 1985, 1986, 1987, 1988, 1989, 1990, 1991, 1992, 1993, 1994,\n",
       "       1995, 1996, 1997, 1998, 1999, 2000, 2001, 2002, 2003, 2004],\n",
       "      dtype=int64)"
      ]
     },
     "execution_count": 7,
     "metadata": {},
     "output_type": "execute_result"
    }
   ],
   "source": [
    "customers[\"birth\"].sort_values().unique()\n",
    "# Les dates de naissance vont de 1929 (92 ans) à 2004 (17 ans). Aucune valeur aberrante, donc.\n",
    "# Par ailleurs, on ne détecte aucune erreur lexicale ou d'irrégularité.\n",
    "# Tout est conforme."
   ]
  },
  {
   "cell_type": "markdown",
   "metadata": {},
   "source": [
    "## II - Nettoyage du fichier \"products\" :"
   ]
  },
  {
   "cell_type": "code",
   "execution_count": 8,
   "metadata": {},
   "outputs": [
    {
     "data": {
      "text/plain": [
       "id_prod  price  categ\n",
       "False    False  False    3287\n",
       "dtype: int64"
      ]
     },
     "execution_count": 8,
     "metadata": {},
     "output_type": "execute_result"
    }
   ],
   "source": [
    "products.isnull().value_counts()\n",
    "# Aucune valeur manquante."
   ]
  },
  {
   "cell_type": "markdown",
   "metadata": {},
   "source": [
    "### A - Colonne \"id_product\" :"
   ]
  },
  {
   "cell_type": "code",
   "execution_count": 9,
   "metadata": {},
   "outputs": [],
   "source": [
    "products[\"id_prod\"].duplicated().sort_values()\n",
    "# Pas de données dupliquées\n",
    "\n",
    "products[\"id_prod\"].sort_values()\n",
    "# La dernière entrée \"T_0\" est différente des autres. Cela pourrait être anodins, mais après vérification le prix qui lui est \n",
    "# associé est aberrant (prix négatif).\n",
    "# Donc suppression de l'entrée.\n",
    "\n",
    "products=products.drop(index=731)"
   ]
  },
  {
   "cell_type": "markdown",
   "metadata": {},
   "source": [
    "### B - Colonne \"price\" :"
   ]
  },
  {
   "cell_type": "code",
   "execution_count": 10,
   "metadata": {},
   "outputs": [
    {
     "data": {
      "text/plain": [
       "2272      0.62\n",
       "2355      0.62\n",
       "370       0.66\n",
       "1211      0.77\n",
       "1530      0.80\n",
       "         ...  \n",
       "2779    233.54\n",
       "1436    236.99\n",
       "394     247.22\n",
       "724     254.44\n",
       "947     300.00\n",
       "Name: price, Length: 3286, dtype: float64"
      ]
     },
     "execution_count": 10,
     "metadata": {},
     "output_type": "execute_result"
    }
   ],
   "source": [
    "products[\"price\"].sort_values()\n",
    "# Les prix des produits vont de 0,62 à 300. Aucune valeur aberrante, la seule entrée négative a été supprimée ci-dessus."
   ]
  },
  {
   "cell_type": "markdown",
   "metadata": {},
   "source": [
    "### C - Colonne \"categ\" :"
   ]
  },
  {
   "cell_type": "code",
   "execution_count": 11,
   "metadata": {},
   "outputs": [
    {
     "data": {
      "text/plain": [
       "array([0, 1, 2], dtype=int64)"
      ]
     },
     "execution_count": 11,
     "metadata": {},
     "output_type": "execute_result"
    }
   ],
   "source": [
    "products[\"categ\"].unique()\n",
    "# Il n'y a que 3 entrées différentes dans la colonne \"categ\". Les trois semblent cohérentes."
   ]
  },
  {
   "cell_type": "markdown",
   "metadata": {},
   "source": [
    "## III - Nettoyage du fichier \"transactions\" :"
   ]
  },
  {
   "cell_type": "code",
   "execution_count": 12,
   "metadata": {},
   "outputs": [
    {
     "data": {
      "text/plain": [
       "id_prod  date   session_id  client_id\n",
       "False    False  False       False        337016\n",
       "dtype: int64"
      ]
     },
     "execution_count": 12,
     "metadata": {},
     "output_type": "execute_result"
    }
   ],
   "source": [
    "transactions.isnull().value_counts()\n",
    "# Aucune valeur manquante."
   ]
  },
  {
   "cell_type": "markdown",
   "metadata": {},
   "source": [
    "   ### A - Vérification de la colonne \"client_id\" :"
   ]
  },
  {
   "cell_type": "code",
   "execution_count": 13,
   "metadata": {},
   "outputs": [],
   "source": [
    "transactions[\"id_prod\"].sort_values()\n",
    "# La valeur T_0 diffère des autres valeurs.\n",
    "\n",
    "transactions[transactions[\"id_prod\"]==\"T_0\"]\n",
    "# les valeurs T_0, au nombre de 200 correspondent à des tests.\n",
    "\n",
    "# Suppression des produits \"T_0\" :\n",
    "transactions.drop(transactions.loc[transactions[\"id_prod\"]== \"T_0\"].index, inplace=True)"
   ]
  },
  {
   "cell_type": "markdown",
   "metadata": {},
   "source": [
    "### B - Vérification de la colonne \"date\" :"
   ]
  },
  {
   "cell_type": "code",
   "execution_count": 14,
   "metadata": {
    "scrolled": true
   },
   "outputs": [
    {
     "data": {
      "text/plain": [
       "176588    2021-03-01 00:01:07.843138\n",
       "95285     2021-03-01 00:02:26.047414\n",
       "216737    2021-03-01 00:02:38.311413\n",
       "180767    2021-03-01 00:04:54.559692\n",
       "293481    2021-03-01 00:05:18.801198\n",
       "                     ...            \n",
       "208601    2022-02-28 23:56:57.196281\n",
       "242599    2022-02-28 23:56:57.561424\n",
       "6245      2022-02-28 23:57:12.741573\n",
       "301528    2022-02-28 23:59:02.381670\n",
       "79892     2022-02-28 23:59:58.040472\n",
       "Name: date, Length: 336816, dtype: object"
      ]
     },
     "execution_count": 14,
     "metadata": {},
     "output_type": "execute_result"
    }
   ],
   "source": [
    "transactions[\"date\"].sort_values()\n",
    "# Il y a un problème avec les dates qui vont du 1er mars 2021 au 28 février 2022. Ce qui signifie que TOUTES sont aberrantes !"
   ]
  },
  {
   "cell_type": "code",
   "execution_count": 15,
   "metadata": {},
   "outputs": [
    {
     "data": {
      "text/html": [
       "<div>\n",
       "<style scoped>\n",
       "    .dataframe tbody tr th:only-of-type {\n",
       "        vertical-align: middle;\n",
       "    }\n",
       "\n",
       "    .dataframe tbody tr th {\n",
       "        vertical-align: top;\n",
       "    }\n",
       "\n",
       "    .dataframe thead th {\n",
       "        text-align: right;\n",
       "    }\n",
       "</style>\n",
       "<table border=\"1\" class=\"dataframe\">\n",
       "  <thead>\n",
       "    <tr style=\"text-align: right;\">\n",
       "      <th></th>\n",
       "      <th>id_prod</th>\n",
       "      <th>date</th>\n",
       "      <th>session_id</th>\n",
       "      <th>client_id</th>\n",
       "    </tr>\n",
       "  </thead>\n",
       "  <tbody>\n",
       "    <tr>\n",
       "      <th>297154</th>\n",
       "      <td>0_1210</td>\n",
       "      <td>2021-03-01</td>\n",
       "      <td>s_342</td>\n",
       "      <td>c_2452</td>\n",
       "    </tr>\n",
       "    <tr>\n",
       "      <th>285743</th>\n",
       "      <td>0_1815</td>\n",
       "      <td>2021-03-01</td>\n",
       "      <td>s_181</td>\n",
       "      <td>c_6882</td>\n",
       "    </tr>\n",
       "    <tr>\n",
       "      <th>204887</th>\n",
       "      <td>1_369</td>\n",
       "      <td>2021-03-01</td>\n",
       "      <td>s_421</td>\n",
       "      <td>c_7621</td>\n",
       "    </tr>\n",
       "    <tr>\n",
       "      <th>285816</th>\n",
       "      <td>2_164</td>\n",
       "      <td>2021-03-01</td>\n",
       "      <td>s_93</td>\n",
       "      <td>c_5525</td>\n",
       "    </tr>\n",
       "    <tr>\n",
       "      <th>133016</th>\n",
       "      <td>1_532</td>\n",
       "      <td>2021-03-01</td>\n",
       "      <td>s_267</td>\n",
       "      <td>c_1631</td>\n",
       "    </tr>\n",
       "    <tr>\n",
       "      <th>...</th>\n",
       "      <td>...</td>\n",
       "      <td>...</td>\n",
       "      <td>...</td>\n",
       "      <td>...</td>\n",
       "    </tr>\n",
       "    <tr>\n",
       "      <th>251307</th>\n",
       "      <td>0_665</td>\n",
       "      <td>2022-02-28</td>\n",
       "      <td>s_172020</td>\n",
       "      <td>c_2047</td>\n",
       "    </tr>\n",
       "    <tr>\n",
       "      <th>324270</th>\n",
       "      <td>0_1104</td>\n",
       "      <td>2022-02-28</td>\n",
       "      <td>s_172164</td>\n",
       "      <td>c_6524</td>\n",
       "    </tr>\n",
       "    <tr>\n",
       "      <th>131077</th>\n",
       "      <td>0_1036</td>\n",
       "      <td>2022-02-28</td>\n",
       "      <td>s_171943</td>\n",
       "      <td>c_3278</td>\n",
       "    </tr>\n",
       "    <tr>\n",
       "      <th>282774</th>\n",
       "      <td>1_396</td>\n",
       "      <td>2022-02-28</td>\n",
       "      <td>s_172279</td>\n",
       "      <td>c_1581</td>\n",
       "    </tr>\n",
       "    <tr>\n",
       "      <th>248632</th>\n",
       "      <td>0_1440</td>\n",
       "      <td>2022-02-28</td>\n",
       "      <td>s_172110</td>\n",
       "      <td>c_425</td>\n",
       "    </tr>\n",
       "  </tbody>\n",
       "</table>\n",
       "<p>336816 rows × 4 columns</p>\n",
       "</div>"
      ],
      "text/plain": [
       "       id_prod        date session_id client_id\n",
       "297154  0_1210  2021-03-01      s_342    c_2452\n",
       "285743  0_1815  2021-03-01      s_181    c_6882\n",
       "204887   1_369  2021-03-01      s_421    c_7621\n",
       "285816   2_164  2021-03-01       s_93    c_5525\n",
       "133016   1_532  2021-03-01      s_267    c_1631\n",
       "...        ...         ...        ...       ...\n",
       "251307   0_665  2022-02-28   s_172020    c_2047\n",
       "324270  0_1104  2022-02-28   s_172164    c_6524\n",
       "131077  0_1036  2022-02-28   s_171943    c_3278\n",
       "282774   1_396  2022-02-28   s_172279    c_1581\n",
       "248632  0_1440  2022-02-28   s_172110     c_425\n",
       "\n",
       "[336816 rows x 4 columns]"
      ]
     },
     "execution_count": 15,
     "metadata": {},
     "output_type": "execute_result"
    }
   ],
   "source": [
    "# Conversion des données\n",
    "from datetime import datetime\n",
    "transactions[\"date\"]=pd.to_datetime(transactions[\"date\"])\n",
    "transactions[\"date\"]=transactions[\"date\"].dt.strftime('%Y-%m-%d')\n",
    "transactions.sort_values(by=\"date\")"
   ]
  },
  {
   "cell_type": "markdown",
   "metadata": {},
   "source": [
    "### C - Vérification de la colonne \"session_id\" :"
   ]
  },
  {
   "cell_type": "code",
   "execution_count": 16,
   "metadata": {},
   "outputs": [
    {
     "data": {
      "text/html": [
       "<div>\n",
       "<style scoped>\n",
       "    .dataframe tbody tr th:only-of-type {\n",
       "        vertical-align: middle;\n",
       "    }\n",
       "\n",
       "    .dataframe tbody tr th {\n",
       "        vertical-align: top;\n",
       "    }\n",
       "\n",
       "    .dataframe thead th {\n",
       "        text-align: right;\n",
       "    }\n",
       "</style>\n",
       "<table border=\"1\" class=\"dataframe\">\n",
       "  <thead>\n",
       "    <tr style=\"text-align: right;\">\n",
       "      <th></th>\n",
       "      <th>client_id</th>\n",
       "    </tr>\n",
       "    <tr>\n",
       "      <th>session_id</th>\n",
       "      <th></th>\n",
       "    </tr>\n",
       "  </thead>\n",
       "  <tbody>\n",
       "  </tbody>\n",
       "</table>\n",
       "</div>"
      ],
      "text/plain": [
       "Empty DataFrame\n",
       "Columns: [client_id]\n",
       "Index: []"
      ]
     },
     "execution_count": 16,
     "metadata": {},
     "output_type": "execute_result"
    }
   ],
   "source": [
    "transactions[\"session_id\"].sort_values()\n",
    "# présence visible de duplicats qui peuvent correspondre à des achats groupés.\n",
    "\n",
    "testErreur = transactions[[\"client_id\",\"session_id\"]].groupby(by=\"session_id\").nunique()\n",
    "testErreur[testErreur[\"client_id\"]!=1]\n",
    "# Les valeurs de session_id peuvent être associées avec plusieurs produits (panier d'achat) mais à un seul client.\n",
    "# Ici chaque, aucune valeur \"session_id\" n'est associée à plus d'un client (ou à moins). Tout est OK !"
   ]
  },
  {
   "cell_type": "markdown",
   "metadata": {},
   "source": [
    "### D - Vérification de la colonne \"client_id\" :"
   ]
  },
  {
   "cell_type": "code",
   "execution_count": 17,
   "metadata": {},
   "outputs": [
    {
     "data": {
      "text/plain": [
       "240351      c_1\n",
       "193879      c_1\n",
       "83342       c_1\n",
       "26295       c_1\n",
       "57766       c_1\n",
       "          ...  \n",
       "306617    c_999\n",
       "25303     c_999\n",
       "318624    c_999\n",
       "147230    c_999\n",
       "71963     c_999\n",
       "Name: client_id, Length: 336816, dtype: object"
      ]
     },
     "execution_count": 17,
     "metadata": {},
     "output_type": "execute_result"
    }
   ],
   "source": [
    "transactions[\"client_id\"].sort_values()\n",
    "# Les valeurs semblent correctes. Les doublons correspondent aux divers achats."
   ]
  },
  {
   "cell_type": "markdown",
   "metadata": {},
   "source": [
    "## Export des fichiers corrigés :"
   ]
  },
  {
   "cell_type": "code",
   "execution_count": 18,
   "metadata": {},
   "outputs": [],
   "source": [
    "customers.to_csv(\"customers2.csv\", index = False, encoding=\"ISO-8859-1\")\n",
    "products.to_csv(\"product2.csv\", index = False, encoding=\"ISO-8859-1\")\n",
    "transactions.to_csv(\"transactions2.csv\", index = False, encoding=\"ISO-8859-1\")"
   ]
  }
 ],
 "metadata": {
  "kernelspec": {
   "display_name": "Python 3",
   "language": "python",
   "name": "python3"
  },
  "language_info": {
   "codemirror_mode": {
    "name": "ipython",
    "version": 3
   },
   "file_extension": ".py",
   "mimetype": "text/x-python",
   "name": "python",
   "nbconvert_exporter": "python",
   "pygments_lexer": "ipython3",
   "version": "3.8.5"
  }
 },
 "nbformat": 4,
 "nbformat_minor": 4
}
